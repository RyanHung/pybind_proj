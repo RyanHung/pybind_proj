{
 "cells": [
  {
   "cell_type": "code",
   "execution_count": 1,
   "metadata": {},
   "outputs": [
    {
     "name": "stdout",
     "output_type": "stream",
     "text": [
      "/home/jovyan/work\n"
     ]
    }
   ],
   "source": [
    "%cd .."
   ]
  },
  {
   "cell_type": "code",
   "execution_count": 2,
   "metadata": {},
   "outputs": [
    {
     "name": "stdout",
     "output_type": "stream",
     "text": [
      "[[-0.09041179  1.8089189  -1.43358978 -1.45107369]\n",
      " [ 0.5154837   1.66478027  0.42787551  1.21670702]\n",
      " [-0.54086211  0.54284691 -1.93479771 -1.37328364]\n",
      " [ 0.05360364  0.86918772 -1.02845292 -0.39622242]]\n"
     ]
    }
   ],
   "source": [
    "from functions.functions import TestClass\n",
    "import numpy as np\n",
    "\n",
    "S = np.zeros((4,4), dtype=np.float64, order='F')\n",
    "\n",
    "t = TestClass()\n",
    "\n",
    "print(t.testOpenMP(S))"
   ]
  },
  {
   "cell_type": "code",
   "execution_count": null,
   "metadata": {},
   "outputs": [],
   "source": [
    "from functions.functions import TestClass\n",
    "import numpy as np\n",
    "\n",
    "S = np.zeros((4,4), dtype=np.float64, order='F')\n",
    "\n",
    "t = TestClass()\n",
    "\n",
    "print(t.testBLAS(S))"
   ]
  }
 ],
 "metadata": {
  "kernelspec": {
   "display_name": "Python 3 (ipykernel)",
   "language": "python",
   "name": "python3"
  },
  "language_info": {
   "codemirror_mode": {
    "name": "ipython",
    "version": 3
   },
   "file_extension": ".py",
   "mimetype": "text/x-python",
   "name": "python",
   "nbconvert_exporter": "python",
   "pygments_lexer": "ipython3",
   "version": "3.11.6"
  },
  "orig_nbformat": 4,
  "vscode": {
   "interpreter": {
    "hash": "d4d1e4263499bec80672ea0156c357c1ee493ec2b1c70f0acce89fc37c4a6abe"
   }
  }
 },
 "nbformat": 4,
 "nbformat_minor": 2
}
