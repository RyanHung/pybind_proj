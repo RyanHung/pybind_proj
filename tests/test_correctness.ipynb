{
 "cells": [
  {
   "cell_type": "code",
   "execution_count": 1,
   "metadata": {},
   "outputs": [
    {
     "name": "stdout",
     "output_type": "stream",
     "text": [
      "/home/jovyan/work\n"
     ]
    }
   ],
   "source": [
    "%cd .."
   ]
  },
  {
   "cell_type": "code",
   "execution_count": 11,
   "metadata": {},
   "outputs": [
    {
     "name": "stdout",
     "output_type": "stream",
     "text": [
      "[[ 1.56093041 -0.16919305  1.60883229 -0.49917209]\n",
      " [-0.60442826 -1.74761665  1.40367915  1.04099495]\n",
      " [-1.74331472 -1.04688018 -0.933337    0.05014146]\n",
      " [-1.9199078   1.88253653  0.15904136  0.67089504]]\n"
     ]
    }
   ],
   "source": [
    "from functions.functions import TestClass\n",
    "import numpy as np\n",
    "\n",
    "S = np.zeros((4,4), dtype=np.float64, order='F')\n",
    "\n",
    "t = TestClass()\n",
    "\n",
    "print(t.testOpenMP(S))"
   ]
  }
 ],
 "metadata": {
  "kernelspec": {
   "display_name": "Python 3 (ipykernel)",
   "language": "python",
   "name": "python3"
  },
  "language_info": {
   "codemirror_mode": {
    "name": "ipython",
    "version": 3
   },
   "file_extension": ".py",
   "mimetype": "text/x-python",
   "name": "python",
   "nbconvert_exporter": "python",
   "pygments_lexer": "ipython3",
   "version": "3.11.6"
  },
  "orig_nbformat": 4,
  "vscode": {
   "interpreter": {
    "hash": "d4d1e4263499bec80672ea0156c357c1ee493ec2b1c70f0acce89fc37c4a6abe"
   }
  }
 },
 "nbformat": 4,
 "nbformat_minor": 2
}
